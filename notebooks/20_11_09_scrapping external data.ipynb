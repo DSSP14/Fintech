{
 "cells": [
  {
   "cell_type": "markdown",
   "metadata": {},
   "source": [
    "## Scrapping external data with yahoo finance\n",
    "\n",
    "Author: Vincent Butti 10th November 2020"
   ]
  },
  {
   "cell_type": "markdown",
   "metadata": {},
   "source": [
    "WHAT IS DOES ?\n",
    "\n",
    "#1 load multiple stock in one dataframe with yfinannce. Here we load the financial market info of the 10 most valuated crytpo\n",
    "\n",
    "#2 save each crypto in a separate csv\n",
    "\n",
    "#3 Create a dictionary of stocks to access each stock\n",
    "\n",
    "#4 create profile report of each crypto and save as html\n",
    "\n",
    "#5 first data viz with mpl finance"
   ]
  },
  {
   "cell_type": "markdown",
   "metadata": {},
   "source": [
    "WHAT STOCK ARE WE USING ?\n",
    "\n",
    "we choose to load values of the 10 most valuated cryptomoney (2020_04_20), namely:\n",
    "\n",
    "Bitcoin (BTC) $128bn, Ethereum (ETH) $19.4bn, XRP (XRP) $8.22bn, Tether (USDT) $6.4bn,  Bitcoin Cash (BCH) $4.1bn,  Bitcoin SV (BSV) $3.4bn, Litecoin (LTC) $2.6bn,  EOS (EOS) $2.4bn,  Binance Coin (BNB) $2.4bn ,Tezos (XTZ) $1.5bn\n",
    "\n",
    "we'll later load alleged correlated stock records such as gold index, S&P500..."
   ]
  },
  {
   "cell_type": "code",
   "execution_count": 12,
   "metadata": {},
   "outputs": [],
   "source": [
    "# -*- coding: utf-8 -*-"
   ]
  },
  {
   "cell_type": "code",
   "execution_count": 4,
   "metadata": {},
   "outputs": [
    {
     "data": {
      "text/plain": [
       "'0.12.7a0'"
      ]
     },
     "execution_count": 4,
     "metadata": {},
     "output_type": "execute_result"
    }
   ],
   "source": [
    "import yfinance as yf # https://github.com/ranaroussi/yfinance\n",
    "import pandas as pd\n",
    "from datetime import date\n",
    "from pandas_profiling import ProfileReport\n",
    "\n",
    "# visual package\n",
    "import mplfinance as mpf\n",
    "mpf.__version__\n"
   ]
  },
  {
   "cell_type": "markdown",
   "metadata": {},
   "source": [
    "## #1 load multiple stock in one multidindex pandas dataframe with yfinannce"
   ]
  },
  {
   "cell_type": "code",
   "execution_count": null,
   "metadata": {},
   "outputs": [],
   "source": [
    "#set your data file location \n",
    "path_data = input(\"set your data file path: \")\n",
    "print(\"your data will be stored at this file path : \", path_data)"
   ]
  },
  {
   "cell_type": "code",
   "execution_count": null,
   "metadata": {},
   "outputs": [],
   "source": [
    "#path_data = \"C:/PROJET/CRYPTO/data/\""
   ]
  },
  {
   "cell_type": "code",
   "execution_count": 5,
   "metadata": {},
   "outputs": [],
   "source": [
    "def scrap_yahoo_fin(stock_list, start, end, period =None, interval = None, prepost = False,auto_adjust = True, actions =True ):\n",
    "    \"\"\"\n",
    "        stock_list = either a str typed ticker (ex: \"dxy\") or a list (ex: ['DXY', \"INX\"])\n",
    "        period: data period to download (Either Use period parameter or use start and end) Valid periods are: 1d, 5d, 1mo, 3mo, 6mo, 1y, 2y, 5y, 10y, ytd, max\n",
    "        interval: data interval (intraday data cannot extend last 60 days) Valid intervals are: 1m, 2m, 5m, 15m, 30m, 60m, 90m, 1h, 1d, 5d, 1wk, 1mo, 3mo\n",
    "        start: If not using period - Download start date string (YYYY-MM-DD) or datetime.\n",
    "        end: If not using period - Download end date string (YYYY-MM-DD) or datetime.\n",
    "        prepost: Include Pre and Post market data in results? (Default is False)\n",
    "        auto_adjust: Adjust all OHLC automatically? (Default is True)\n",
    "        actions: Download stock dividends and stock splits events? (Default is True)\n",
    "    \"\"\"\n",
    "    data = yf.download(stocks, start=start, end=end)\n",
    "    return data"
   ]
  },
  {
   "cell_type": "code",
   "execution_count": 6,
   "metadata": {},
   "outputs": [
    {
     "name": "stdout",
     "output_type": "stream",
     "text": [
      "[*********************100%***********************]  10 of 10 completed\n"
     ]
    }
   ],
   "source": [
    "stocks = [\"BTC-USD\",\"ETH-USD\", \"XRP-USD\", \"USDT-USD\", \"BCH-USD\", \"BSV-USD\", \"LTC-USD\", \"EOS-USD\", \"BNB-USD\", \"XTZ-USD\"]\n",
    "\n",
    "# start and en perid comes form date index of min and max  historical data of bitcoin EUR\n",
    "start =\"2013-10-06\" \n",
    "end =\"2020-11-08\"\n",
    "\n",
    "df = scrap_yahoo_fin(stock_list = stocks, start =start, end =end)"
   ]
  },
  {
   "cell_type": "code",
   "execution_count": null,
   "metadata": {},
   "outputs": [],
   "source": [
    "# # Saving our maxi dataframe as a \"pickle\" object with pcikel.dump\n",
    "# import pickle\n",
    "# with open(path_data+ \"yahoo_finance/\" + \"10_best_crypto_pickle\", \"wb+\") as f:\n",
    "#     pickle.dump(df, f)\n",
    "    \n",
    "# # if we want to retrieve our \"pickle\" object, use pickle load\n",
    "# with open(path_data+ \"yahoo_finance/\" + \"10_best_crypto_pickle\", \"rb+\") as f:\n",
    "#     data = pickle.load(f)"
   ]
  },
  {
   "cell_type": "code",
   "execution_count": 7,
   "metadata": {},
   "outputs": [
    {
     "name": "stdout",
     "output_type": "stream",
     "text": [
      "MultiIndex([('Adj Close',  'BCH-USD'),\n",
      "            ('Adj Close',  'BNB-USD'),\n",
      "            ('Adj Close',  'BSV-USD'),\n",
      "            ('Adj Close',  'BTC-USD'),\n",
      "            ('Adj Close',  'EOS-USD'),\n",
      "            ('Adj Close',  'ETH-USD'),\n",
      "            ('Adj Close',  'LTC-USD'),\n",
      "            ('Adj Close', 'USDT-USD'),\n",
      "            ('Adj Close',  'XRP-USD'),\n",
      "            ('Adj Close',  'XTZ-USD'),\n",
      "            (    'Close',  'BCH-USD'),\n",
      "            (    'Close',  'BNB-USD'),\n",
      "            (    'Close',  'BSV-USD'),\n",
      "            (    'Close',  'BTC-USD'),\n",
      "            (    'Close',  'EOS-USD'),\n",
      "            (    'Close',  'ETH-USD'),\n",
      "            (    'Close',  'LTC-USD'),\n",
      "            (    'Close', 'USDT-USD'),\n",
      "            (    'Close',  'XRP-USD'),\n",
      "            (    'Close',  'XTZ-USD'),\n",
      "            (     'High',  'BCH-USD'),\n",
      "            (     'High',  'BNB-USD'),\n",
      "            (     'High',  'BSV-USD'),\n",
      "            (     'High',  'BTC-USD'),\n",
      "            (     'High',  'EOS-USD'),\n",
      "            (     'High',  'ETH-USD'),\n",
      "            (     'High',  'LTC-USD'),\n",
      "            (     'High', 'USDT-USD'),\n",
      "            (     'High',  'XRP-USD'),\n",
      "            (     'High',  'XTZ-USD'),\n",
      "            (      'Low',  'BCH-USD'),\n",
      "            (      'Low',  'BNB-USD'),\n",
      "            (      'Low',  'BSV-USD'),\n",
      "            (      'Low',  'BTC-USD'),\n",
      "            (      'Low',  'EOS-USD'),\n",
      "            (      'Low',  'ETH-USD'),\n",
      "            (      'Low',  'LTC-USD'),\n",
      "            (      'Low', 'USDT-USD'),\n",
      "            (      'Low',  'XRP-USD'),\n",
      "            (      'Low',  'XTZ-USD'),\n",
      "            (     'Open',  'BCH-USD'),\n",
      "            (     'Open',  'BNB-USD'),\n",
      "            (     'Open',  'BSV-USD'),\n",
      "            (     'Open',  'BTC-USD'),\n",
      "            (     'Open',  'EOS-USD'),\n",
      "            (     'Open',  'ETH-USD'),\n",
      "            (     'Open',  'LTC-USD'),\n",
      "            (     'Open', 'USDT-USD'),\n",
      "            (     'Open',  'XRP-USD'),\n",
      "            (     'Open',  'XTZ-USD'),\n",
      "            (   'Volume',  'BCH-USD'),\n",
      "            (   'Volume',  'BNB-USD'),\n",
      "            (   'Volume',  'BSV-USD'),\n",
      "            (   'Volume',  'BTC-USD'),\n",
      "            (   'Volume',  'EOS-USD'),\n",
      "            (   'Volume',  'ETH-USD'),\n",
      "            (   'Volume',  'LTC-USD'),\n",
      "            (   'Volume', 'USDT-USD'),\n",
      "            (   'Volume',  'XRP-USD'),\n",
      "            (   'Volume',  'XTZ-USD')],\n",
      "           )\n",
      "             Adj Close                                                 \\\n",
      "               BCH-USD    BNB-USD     BSV-USD       BTC-USD   EOS-USD   \n",
      "Date                                                                    \n",
      "2020-10-29  267.056061  29.842478  166.785477  13437.882812  2.627914   \n",
      "2020-10-30  261.828125  28.508411  163.513840  13546.522461  2.505477   \n",
      "2020-10-31  261.758240  28.431215  164.869537  13780.995117  2.521050   \n",
      "2020-11-01  267.555817  28.461565  164.636841  13737.109375  2.511798   \n",
      "2020-11-02  257.199707  27.883930  158.671875  13550.489258  2.430644   \n",
      "2020-11-03  244.146835  26.857048  153.783493  13950.300781  2.361035   \n",
      "2020-11-04  241.130096  26.931515  152.160141  14133.707031  2.349333   \n",
      "2020-11-05  249.547333  27.675859  159.751877  15579.848633  2.444272   \n",
      "2020-11-06  257.720184  29.018000  167.639801  15565.880859  2.535127   \n",
      "2020-11-07  253.590408  27.738096  162.210510  14833.753906  2.499402   \n",
      "\n",
      "                                                                 ...  \\\n",
      "               ETH-USD    LTC-USD  USDT-USD   XRP-USD   XTZ-USD  ...   \n",
      "Date                                                             ...   \n",
      "2020-10-29  386.730103  54.765854  1.000349  0.242295  1.933596  ...   \n",
      "2020-10-30  382.819977  53.835033  1.000904  0.239184  1.903582  ...   \n",
      "2020-10-31  386.590332  55.590260  1.000200  0.239744  1.975980  ...   \n",
      "2020-11-01  396.358185  55.587624  1.000379  0.239797  1.985351  ...   \n",
      "2020-11-02  383.156738  53.817482  1.000523  0.235421  1.896550  ...   \n",
      "2020-11-03  387.602173  53.819622  1.000552  0.239510  1.868325  ...   \n",
      "2020-11-04  402.141998  54.499104  1.001079  0.237793  1.876327  ...   \n",
      "2020-11-05  414.067352  58.678497  1.000420  0.245776  1.882145  ...   \n",
      "2020-11-06  454.719299  63.131111  1.000296  0.258445  2.086628  ...   \n",
      "2020-11-07  435.713135  59.143646  1.001576  0.249582  2.021119  ...   \n",
      "\n",
      "                  Volume                                                       \\\n",
      "                 BCH-USD      BNB-USD      BSV-USD      BTC-USD       EOS-USD   \n",
      "Date                                                                            \n",
      "2020-10-29  2.670911e+09  426303252.0  899916192.0  56499499598  2.175669e+09   \n",
      "2020-10-30  3.032354e+09  531974962.0  941971368.0  30581485200  2.671603e+09   \n",
      "2020-10-31  2.021384e+09  360596997.0  929986117.0  30306464718  2.006225e+09   \n",
      "2020-11-01  1.785981e+09  338657898.0  590083841.0  24453857900  1.756289e+09   \n",
      "2020-11-02  2.473366e+09  390864651.0  754759966.0  30771455467  2.430306e+09   \n",
      "2020-11-03  2.902353e+09  457901612.0  826433367.0  29869951617  2.498280e+09   \n",
      "2020-11-04  2.602973e+09  383972479.0  965812020.0  35116364961  2.195202e+09   \n",
      "2020-11-05  2.296535e+09  299236755.0  741458841.0  40856321438  2.271829e+09   \n",
      "2020-11-06  2.307793e+09  343104561.0  724540086.0  39837841971  2.386972e+09   \n",
      "2020-11-07  3.306975e+09  362934992.0  734498980.0  35024953705  2.649883e+09   \n",
      "\n",
      "                                                                             \n",
      "                 ETH-USD     LTC-USD      USDT-USD     XRP-USD      XTZ-USD  \n",
      "Date                                                                         \n",
      "2020-10-29  1.292048e+10  3010404351  4.589936e+10  5451698743  136062646.0  \n",
      "2020-10-30  1.368806e+10  2563994174  4.831006e+10  2364402263  157440828.0  \n",
      "2020-10-31  1.127696e+10  2657420659  4.251442e+10  2100764094  140233228.0  \n",
      "2020-11-01  1.047515e+10  2045991009  3.436164e+10  1855741695  107373598.0  \n",
      "2020-11-02  1.399757e+10  3019889901  4.707750e+10  2412875797  132681106.0  \n",
      "2020-11-03  1.258849e+10  2580300878  4.501917e+10  3052524907  138243205.0  \n",
      "2020-11-04  1.512608e+10  3050534139  5.135149e+10  3335786073  161150029.0  \n",
      "2020-11-05  1.544071e+10  3250514598  5.036133e+10  2949508994  206184470.0  \n",
      "2020-11-06  1.673831e+10  4083503372  5.289874e+10  3282591092  289623871.0  \n",
      "2020-11-07  1.887329e+10  4320946722  5.622637e+10  3395345984  309422431.0  \n",
      "\n",
      "[10 rows x 60 columns]\n"
     ]
    }
   ],
   "source": [
    "# our data are collected in a pandas MULTIINDEX dataframe\n",
    "print(df.columns)\n",
    "print(df.tail(10))"
   ]
  },
  {
   "cell_type": "code",
   "execution_count": 8,
   "metadata": {},
   "outputs": [
    {
     "data": {
      "text/html": [
       "<div>\n",
       "<style scoped>\n",
       "    .dataframe tbody tr th:only-of-type {\n",
       "        vertical-align: middle;\n",
       "    }\n",
       "\n",
       "    .dataframe tbody tr th {\n",
       "        vertical-align: top;\n",
       "    }\n",
       "\n",
       "    .dataframe thead tr th {\n",
       "        text-align: left;\n",
       "    }\n",
       "\n",
       "    .dataframe thead tr:last-of-type th {\n",
       "        text-align: right;\n",
       "    }\n",
       "</style>\n",
       "<table border=\"1\" class=\"dataframe\">\n",
       "  <thead>\n",
       "    <tr>\n",
       "      <th></th>\n",
       "      <th>Adj Close</th>\n",
       "      <th>Close</th>\n",
       "      <th>High</th>\n",
       "      <th>Low</th>\n",
       "      <th>Open</th>\n",
       "      <th>Volume</th>\n",
       "    </tr>\n",
       "    <tr>\n",
       "      <th></th>\n",
       "      <th>BTC-USD</th>\n",
       "      <th>BTC-USD</th>\n",
       "      <th>BTC-USD</th>\n",
       "      <th>BTC-USD</th>\n",
       "      <th>BTC-USD</th>\n",
       "      <th>BTC-USD</th>\n",
       "    </tr>\n",
       "    <tr>\n",
       "      <th>Date</th>\n",
       "      <th></th>\n",
       "      <th></th>\n",
       "      <th></th>\n",
       "      <th></th>\n",
       "      <th></th>\n",
       "      <th></th>\n",
       "    </tr>\n",
       "  </thead>\n",
       "  <tbody>\n",
       "    <tr>\n",
       "      <th>2014-09-17</th>\n",
       "      <td>457.334015</td>\n",
       "      <td>457.334015</td>\n",
       "      <td>468.174011</td>\n",
       "      <td>452.421997</td>\n",
       "      <td>465.864014</td>\n",
       "      <td>21056800</td>\n",
       "    </tr>\n",
       "    <tr>\n",
       "      <th>2014-09-18</th>\n",
       "      <td>424.440002</td>\n",
       "      <td>424.440002</td>\n",
       "      <td>456.859985</td>\n",
       "      <td>413.104004</td>\n",
       "      <td>456.859985</td>\n",
       "      <td>34483200</td>\n",
       "    </tr>\n",
       "    <tr>\n",
       "      <th>2014-09-19</th>\n",
       "      <td>394.795990</td>\n",
       "      <td>394.795990</td>\n",
       "      <td>427.834991</td>\n",
       "      <td>384.532013</td>\n",
       "      <td>424.102997</td>\n",
       "      <td>37919700</td>\n",
       "    </tr>\n",
       "    <tr>\n",
       "      <th>2014-09-20</th>\n",
       "      <td>408.903992</td>\n",
       "      <td>408.903992</td>\n",
       "      <td>423.295990</td>\n",
       "      <td>389.882996</td>\n",
       "      <td>394.673004</td>\n",
       "      <td>36863600</td>\n",
       "    </tr>\n",
       "    <tr>\n",
       "      <th>2014-09-21</th>\n",
       "      <td>398.821014</td>\n",
       "      <td>398.821014</td>\n",
       "      <td>412.425995</td>\n",
       "      <td>393.181000</td>\n",
       "      <td>408.084991</td>\n",
       "      <td>26580100</td>\n",
       "    </tr>\n",
       "    <tr>\n",
       "      <th>...</th>\n",
       "      <td>...</td>\n",
       "      <td>...</td>\n",
       "      <td>...</td>\n",
       "      <td>...</td>\n",
       "      <td>...</td>\n",
       "      <td>...</td>\n",
       "    </tr>\n",
       "    <tr>\n",
       "      <th>2020-11-03</th>\n",
       "      <td>13950.300781</td>\n",
       "      <td>13950.300781</td>\n",
       "      <td>13984.981445</td>\n",
       "      <td>13325.441406</td>\n",
       "      <td>13550.451172</td>\n",
       "      <td>29869951617</td>\n",
       "    </tr>\n",
       "    <tr>\n",
       "      <th>2020-11-04</th>\n",
       "      <td>14133.707031</td>\n",
       "      <td>14133.707031</td>\n",
       "      <td>14218.766602</td>\n",
       "      <td>13580.471680</td>\n",
       "      <td>13950.488281</td>\n",
       "      <td>35116364961</td>\n",
       "    </tr>\n",
       "    <tr>\n",
       "      <th>2020-11-05</th>\n",
       "      <td>15579.848633</td>\n",
       "      <td>15579.848633</td>\n",
       "      <td>15706.404297</td>\n",
       "      <td>14102.088867</td>\n",
       "      <td>14133.733398</td>\n",
       "      <td>40856321438</td>\n",
       "    </tr>\n",
       "    <tr>\n",
       "      <th>2020-11-06</th>\n",
       "      <td>15565.880859</td>\n",
       "      <td>15565.880859</td>\n",
       "      <td>15903.437500</td>\n",
       "      <td>15226.839844</td>\n",
       "      <td>15579.729492</td>\n",
       "      <td>39837841971</td>\n",
       "    </tr>\n",
       "    <tr>\n",
       "      <th>2020-11-07</th>\n",
       "      <td>14833.753906</td>\n",
       "      <td>14833.753906</td>\n",
       "      <td>15737.095703</td>\n",
       "      <td>14423.203125</td>\n",
       "      <td>15565.880859</td>\n",
       "      <td>35024953705</td>\n",
       "    </tr>\n",
       "  </tbody>\n",
       "</table>\n",
       "<p>2244 rows × 6 columns</p>\n",
       "</div>"
      ],
      "text/plain": [
       "               Adj Close         Close          High           Low  \\\n",
       "                 BTC-USD       BTC-USD       BTC-USD       BTC-USD   \n",
       "Date                                                                 \n",
       "2014-09-17    457.334015    457.334015    468.174011    452.421997   \n",
       "2014-09-18    424.440002    424.440002    456.859985    413.104004   \n",
       "2014-09-19    394.795990    394.795990    427.834991    384.532013   \n",
       "2014-09-20    408.903992    408.903992    423.295990    389.882996   \n",
       "2014-09-21    398.821014    398.821014    412.425995    393.181000   \n",
       "...                  ...           ...           ...           ...   \n",
       "2020-11-03  13950.300781  13950.300781  13984.981445  13325.441406   \n",
       "2020-11-04  14133.707031  14133.707031  14218.766602  13580.471680   \n",
       "2020-11-05  15579.848633  15579.848633  15706.404297  14102.088867   \n",
       "2020-11-06  15565.880859  15565.880859  15903.437500  15226.839844   \n",
       "2020-11-07  14833.753906  14833.753906  15737.095703  14423.203125   \n",
       "\n",
       "                    Open       Volume  \n",
       "                 BTC-USD      BTC-USD  \n",
       "Date                                   \n",
       "2014-09-17    465.864014     21056800  \n",
       "2014-09-18    456.859985     34483200  \n",
       "2014-09-19    424.102997     37919700  \n",
       "2014-09-20    394.673004     36863600  \n",
       "2014-09-21    408.084991     26580100  \n",
       "...                  ...          ...  \n",
       "2020-11-03  13550.451172  29869951617  \n",
       "2020-11-04  13950.488281  35116364961  \n",
       "2020-11-05  14133.733398  40856321438  \n",
       "2020-11-06  15579.729492  39837841971  \n",
       "2020-11-07  15565.880859  35024953705  \n",
       "\n",
       "[2244 rows x 6 columns]"
      ]
     },
     "execution_count": 8,
     "metadata": {},
     "output_type": "execute_result"
    }
   ],
   "source": [
    "# if we want to acces the values of a specific asset, we shout use th get_level_values\n",
    "df.iloc[:, df.columns.get_level_values(1) == \"BTC-USD\"]"
   ]
  },
  {
   "cell_type": "code",
   "execution_count": 9,
   "metadata": {},
   "outputs": [
    {
     "name": "stdout",
     "output_type": "stream",
     "text": [
      "Level 0 of our dataframes: \n",
      " Index(['Adj Close', 'Adj Close', 'Adj Close', 'Adj Close', 'Adj Close',\n",
      "       'Adj Close', 'Adj Close', 'Adj Close', 'Adj Close', 'Adj Close',\n",
      "       'Close', 'Close', 'Close', 'Close', 'Close', 'Close', 'Close', 'Close',\n",
      "       'Close', 'Close', 'High', 'High', 'High', 'High', 'High', 'High',\n",
      "       'High', 'High', 'High', 'High', 'Low', 'Low', 'Low', 'Low', 'Low',\n",
      "       'Low', 'Low', 'Low', 'Low', 'Low', 'Open', 'Open', 'Open', 'Open',\n",
      "       'Open', 'Open', 'Open', 'Open', 'Open', 'Open', 'Volume', 'Volume',\n",
      "       'Volume', 'Volume', 'Volume', 'Volume', 'Volume', 'Volume', 'Volume',\n",
      "       'Volume'],\n",
      "      dtype='object') \n",
      "\n",
      "'Open' values of  Level 0 of our dataframes: \n",
      "                   Open                                                 \\\n",
      "               BCH-USD    BNB-USD     BSV-USD       BTC-USD   EOS-USD   \n",
      "Date                                                                    \n",
      "2014-09-17         NaN        NaN         NaN    465.864014       NaN   \n",
      "2014-09-18         NaN        NaN         NaN    456.859985       NaN   \n",
      "2014-09-19         NaN        NaN         NaN    424.102997       NaN   \n",
      "2014-09-20         NaN        NaN         NaN    394.673004       NaN   \n",
      "2014-09-21         NaN        NaN         NaN    408.084991       NaN   \n",
      "...                ...        ...         ...           ...       ...   \n",
      "2020-11-03  257.199005  27.883926  158.671066  13550.451172  2.430642   \n",
      "2020-11-04  244.146500  26.857388  153.782562  13950.488281  2.361036   \n",
      "2020-11-05  241.142044  26.931576  152.169510  14133.733398  2.349351   \n",
      "2020-11-06  249.546494  27.675808  159.749908  15579.729492  2.444268   \n",
      "2020-11-07  257.720367  29.018000  167.639801  15565.880859  2.535127   \n",
      "\n",
      "                                                                 \n",
      "               ETH-USD    LTC-USD  USDT-USD   XRP-USD   XTZ-USD  \n",
      "Date                                                             \n",
      "2014-09-17         NaN   5.085890       NaN  0.005123       NaN  \n",
      "2014-09-18         NaN   5.065430       NaN  0.005398       NaN  \n",
      "2014-09-19         NaN   4.687290       NaN  0.005134       NaN  \n",
      "2014-09-20         NaN   4.329200       NaN  0.004942       NaN  \n",
      "2014-09-21         NaN   4.263070       NaN  0.004768       NaN  \n",
      "...                ...        ...       ...       ...       ...  \n",
      "2020-11-03  383.156036  53.817410  1.000523  0.235420  1.896543  \n",
      "2020-11-04  387.603210  53.819469  1.000552  0.239510  1.868321  \n",
      "2020-11-05  402.142944  54.501873  1.001079  0.237799  1.876342  \n",
      "2020-11-06  414.066711  58.676193  1.000420  0.245770  1.882145  \n",
      "2020-11-07  454.722565  63.131111  1.000296  0.258445  2.086628  \n",
      "\n",
      "[2244 rows x 10 columns] \n",
      "\n",
      "Financial info for one specific crypto 'BTC-USD'                Adj Close         Close          High           Low  \\\n",
      "                 BTC-USD       BTC-USD       BTC-USD       BTC-USD   \n",
      "Date                                                                 \n",
      "2014-09-17    457.334015    457.334015    468.174011    452.421997   \n",
      "2014-09-18    424.440002    424.440002    456.859985    413.104004   \n",
      "2014-09-19    394.795990    394.795990    427.834991    384.532013   \n",
      "2014-09-20    408.903992    408.903992    423.295990    389.882996   \n",
      "2014-09-21    398.821014    398.821014    412.425995    393.181000   \n",
      "...                  ...           ...           ...           ...   \n",
      "2020-11-03  13950.300781  13950.300781  13984.981445  13325.441406   \n",
      "2020-11-04  14133.707031  14133.707031  14218.766602  13580.471680   \n",
      "2020-11-05  15579.848633  15579.848633  15706.404297  14102.088867   \n",
      "2020-11-06  15565.880859  15565.880859  15903.437500  15226.839844   \n",
      "2020-11-07  14833.753906  14833.753906  15737.095703  14423.203125   \n",
      "\n",
      "                    Open       Volume  \n",
      "                 BTC-USD      BTC-USD  \n",
      "Date                                   \n",
      "2014-09-17    465.864014     21056800  \n",
      "2014-09-18    456.859985     34483200  \n",
      "2014-09-19    424.102997     37919700  \n",
      "2014-09-20    394.673004     36863600  \n",
      "2014-09-21    408.084991     26580100  \n",
      "...                  ...          ...  \n",
      "2020-11-03  13550.451172  29869951617  \n",
      "2020-11-04  13950.488281  35116364961  \n",
      "2020-11-05  14133.733398  40856321438  \n",
      "2020-11-06  15579.729492  39837841971  \n",
      "2020-11-07  15565.880859  35024953705  \n",
      "\n",
      "[2244 rows x 6 columns]\n"
     ]
    }
   ],
   "source": [
    "# our multiindex datframe has 2 level(\"0\", \"1\") on the columns\n",
    "\n",
    "#For example, if we want to acces the \"0\" level\n",
    "print(\"Level 0 of our dataframes:\",\"\\n\", df.columns.get_level_values(0),\"\\n\")\n",
    "\n",
    "# on that \"0\"th level we can acces the \"open\" values of our assets\n",
    "print(\"'Open' values of  Level 0 of our dataframes:\",\"\\n\", df.iloc[:,df.columns.get_level_values(0)==  \"Open\"],\"\\n\")\n",
    "\n",
    "#or to access values of 1 specific asset of a currency on level \"1\"\n",
    "print(\"Financial info for one specific crypto 'BTC-USD'\", df.iloc[:, df.columns.get_level_values(1) == \"BTC-USD\"])"
   ]
  },
  {
   "cell_type": "markdown",
   "metadata": {},
   "source": [
    "## #2 save each crypto in a separate csv "
   ]
  },
  {
   "cell_type": "code",
   "execution_count": null,
   "metadata": {},
   "outputs": [],
   "source": [
    "# split the mulitindex datafrmaes to separate dataframe for each cryptocurrency and save csv for each value\n",
    "for idx,gp in df.groupby(level=1, axis=1): gp.xs(idx, level=1, axis=1).to_csv(path_data+ \"yahoo_finance/\"+ f'{idx}.csv')"
   ]
  },
  {
   "cell_type": "code",
   "execution_count": null,
   "metadata": {},
   "outputs": [],
   "source": [
    "# split the mulitindex datafrmaes to separate dataframe of all crypto for each type of values((\"open, close\"....) and save csv for each value\n",
    "\n",
    "for idx,gp in df.groupby(level=0, axis=1): gp.xs(idx, level=0, axis=1).to_csv(path_data+ \"yahoo_test/\"+ f'{idx}.csv')"
   ]
  },
  {
   "cell_type": "markdown",
   "metadata": {},
   "source": [
    "## #3 Create a dictionary of crypto to access each crypto as a single pandas dataframe"
   ]
  },
  {
   "cell_type": "code",
   "execution_count": 10,
   "metadata": {},
   "outputs": [
    {
     "name": "stdout",
     "output_type": "stream",
     "text": [
      "dict_keys(['BCH-USD', 'BNB-USD', 'BSV-USD', 'BTC-USD', 'EOS-USD', 'ETH-USD', 'LTC-USD', 'USDT-USD', 'XRP-USD', 'XTZ-USD']) \n",
      "\n",
      "\n",
      "BCH-USD \n",
      "              Adj Close       Close        High         Low        Open  \\\n",
      "Date                                                                     \n",
      "2020-10-29  267.056061  267.056061  271.242920  258.674622  268.490204   \n",
      "2020-10-30  261.828125  261.828125  269.542145  256.430389  267.056793   \n",
      "2020-10-31  261.758240  261.758240  265.492676  259.806030  261.828125   \n",
      "2020-11-01  267.555817  267.555817  269.495972  260.105957  261.758240   \n",
      "2020-11-02  257.199707  257.199707  270.826324  255.188477  267.554413   \n",
      "2020-11-03  244.146835  244.146835  258.704041  236.866760  257.199005   \n",
      "2020-11-04  241.130096  241.130096  244.535904  232.355469  244.146500   \n",
      "2020-11-05  249.547333  249.547333  251.629700  241.142044  241.142044   \n",
      "2020-11-06  257.720184  257.720184  259.037781  248.193253  249.546494   \n",
      "2020-11-07  253.590408  253.590408  276.048553  246.757843  257.720367   \n",
      "\n",
      "                  Volume  \n",
      "Date                      \n",
      "2020-10-29  2.670911e+09  \n",
      "2020-10-30  3.032354e+09  \n",
      "2020-10-31  2.021384e+09  \n",
      "2020-11-01  1.785981e+09  \n",
      "2020-11-02  2.473366e+09  \n",
      "2020-11-03  2.902353e+09  \n",
      "2020-11-04  2.602973e+09  \n",
      "2020-11-05  2.296535e+09  \n",
      "2020-11-06  2.307793e+09  \n",
      "2020-11-07  3.306975e+09  \n"
     ]
    }
   ],
   "source": [
    "# we create a dictionnary to access each cryptocurrency info, which a stroed in a dataframe\n",
    "df_stocks_dict = {idx: gp.xs(idx, level=1, axis=1) for idx,gp in df.groupby(level=1, axis=1)}\n",
    "\n",
    "print(df_stocks_dict.keys(), '\\n\\n')\n",
    "\n",
    "# to access a specific crypto ('BCH-USD'), which is stored as pandas datframe datatype\n",
    "print(\"BCH-USD\",\"\\n\", df_stocks_dict[\"BCH-USD\"].tail(10))"
   ]
  },
  {
   "cell_type": "code",
   "execution_count": null,
   "metadata": {},
   "outputs": [],
   "source": [
    "# saving the dictionnary of dataframe for each crytpo\n",
    "\n",
    "\n",
    "with open(path_data+ \"yahoo_finance/\" + \"pickle_dict_crypto_stocks\", \"wb+\") as f:\n",
    "    pickle.dump(df_stocks_dict, f)"
   ]
  },
  {
   "cell_type": "code",
   "execution_count": null,
   "metadata": {},
   "outputs": [],
   "source": [
    "df.columns.get_level_values(0)"
   ]
  },
  {
   "cell_type": "code",
   "execution_count": null,
   "metadata": {},
   "outputs": [],
   "source": [
    "df.columns.get_level_values(0).unique()"
   ]
  },
  {
   "cell_type": "code",
   "execution_count": null,
   "metadata": {},
   "outputs": [],
   "source": [
    "# if we want to create a new simple (aka non multiindex) dataframe based on \"open\" value\n",
    "\n",
    "# choose the value we want to select from, here 'Open' columns for each crypto\n",
    " = df.iloc[:,df.columns.get_level_values(0) ==  \"Open\"]\n",
    "\n",
    "# then drop the level we want to suppres (\"0\"th level which correspond to \"Open\")\n",
    "a.columns= a.columns.droplevel(0)\n",
    "\n",
    "# we now have a simple dataframe that contains all the \"Open\" values\n",
    "a\n"
   ]
  },
  {
   "cell_type": "code",
   "execution_count": null,
   "metadata": {},
   "outputs": [],
   "source": [
    "# we can tranpose our datframe for further analysis\n",
    "a_transposed = a.T\n",
    "a_transposed"
   ]
  },
  {
   "cell_type": "code",
   "execution_count": null,
   "metadata": {},
   "outputs": [],
   "source": [
    "a_transposed.index"
   ]
  },
  {
   "cell_type": "code",
   "execution_count": null,
   "metadata": {},
   "outputs": [],
   "source": []
  },
  {
   "cell_type": "code",
   "execution_count": null,
   "metadata": {},
   "outputs": [],
   "source": [
    "df_stocks_dict[stocks[0]]"
   ]
  },
  {
   "cell_type": "markdown",
   "metadata": {},
   "source": [
    "## #4 create profile report of each crypto and save as html\n"
   ]
  },
  {
   "cell_type": "code",
   "execution_count": null,
   "metadata": {},
   "outputs": [],
   "source": [
    "# Generating pandas-profile report for each crypto using \"pandas profiling\" (doc: https://github.com/pandas-profiling/pandas-profilingfrom pandas_profiling import ProfileReport\n",
    "# It generates and save an html report for each crypto with \n",
    "for n in range(len(stocks)):\n",
    "    profile = df_stocks_dict[stocks[n]].profile_report(title = stocks[n], explorative=True)\n",
    "    profile.to_widgets()\n",
    "    #save the html report \n",
    "    profile.to_file(path_data+ \"yahoo_finance/\" + stocks[n] +\".html\")"
   ]
  },
  {
   "cell_type": "code",
   "execution_count": null,
   "metadata": {},
   "outputs": [],
   "source": []
  },
  {
   "cell_type": "markdown",
   "metadata": {},
   "source": [
    "## another way to load data form yahoo finance"
   ]
  },
  {
   "cell_type": "code",
   "execution_count": 3,
   "metadata": {},
   "outputs": [
    {
     "ename": "NameError",
     "evalue": "name 'start' is not defined",
     "output_type": "error",
     "traceback": [
      "\u001b[1;31m---------------------------------------------------------------------------\u001b[0m",
      "\u001b[1;31mNameError\u001b[0m                                 Traceback (most recent call last)",
      "\u001b[1;32m<ipython-input-3-6de2a5d4a4b8>\u001b[0m in \u001b[0;36m<module>\u001b[1;34m\u001b[0m\n\u001b[0;32m      8\u001b[0m \u001b[1;33m\u001b[0m\u001b[0m\n\u001b[0;32m      9\u001b[0m \u001b[1;31m# get historical market data\u001b[0m\u001b[1;33m\u001b[0m\u001b[1;33m\u001b[0m\u001b[1;33m\u001b[0m\u001b[0m\n\u001b[1;32m---> 10\u001b[1;33m \u001b[0mDXY\u001b[0m \u001b[1;33m=\u001b[0m \u001b[0mmsft\u001b[0m\u001b[1;33m.\u001b[0m\u001b[0mhistory\u001b[0m\u001b[1;33m(\u001b[0m\u001b[0mstart\u001b[0m \u001b[1;33m=\u001b[0m \u001b[0mstart\u001b[0m\u001b[1;33m,\u001b[0m \u001b[0mend\u001b[0m \u001b[1;33m=\u001b[0m \u001b[0mend\u001b[0m\u001b[1;33m)\u001b[0m\u001b[1;33m\u001b[0m\u001b[1;33m\u001b[0m\u001b[0m\n\u001b[0m\u001b[0;32m     11\u001b[0m \u001b[0mSP500\u001b[0m \u001b[1;33m=\u001b[0m \u001b[0mSP500\u001b[0m\u001b[1;33m.\u001b[0m\u001b[0mhistory\u001b[0m\u001b[1;33m(\u001b[0m\u001b[0mstart\u001b[0m \u001b[1;33m=\u001b[0m \u001b[0mstart\u001b[0m\u001b[1;33m,\u001b[0m \u001b[0mend\u001b[0m \u001b[1;33m=\u001b[0m \u001b[0mend\u001b[0m\u001b[1;33m)\u001b[0m\u001b[1;33m\u001b[0m\u001b[1;33m\u001b[0m\u001b[0m\n\u001b[0;32m     12\u001b[0m \u001b[1;33m\u001b[0m\u001b[0m\n",
      "\u001b[1;31mNameError\u001b[0m: name 'start' is not defined"
     ]
    }
   ],
   "source": [
    "## loading DXY dollar index\n",
    "msft = yf.Ticker(\"DXY\")\n",
    "## loading DXY dollar index\n",
    "SP500 = yf.Ticker(\"INX\")\n",
    "\n",
    "# get stock info\n",
    "#print(msft.info)  #not working\n",
    "\n",
    "# get historical market data\n",
    "DXY = msft.history(start = start, end = end)\n",
    "SP500 = SP500.history(start = start, end = end)\n",
    "\n",
    "#saving data to csv file\n",
    "# DXY.to_csv(path_data + 'DXY.csv')\n",
    "# SP500.to_csv(path_data+ 'SP500.csv')"
   ]
  },
  {
   "cell_type": "markdown",
   "metadata": {},
   "source": [
    "## Visual trailer"
   ]
  },
  {
   "cell_type": "code",
   "execution_count": 11,
   "metadata": {},
   "outputs": [
    {
     "data": {
      "image/png": "[encoded data removed]",
      "text/plain": [
       "<Figure size 1035x575 with 4 Axes>"
      ]
     },
     "metadata": {},
     "output_type": "display_data"
    }
   ],
   "source": [
    "import mplfinance as mpf\n",
    "mpf.__version__\n",
    "\n",
    "btc = df_stocks_dict[\"BTC-USD\"]\n",
    "\n",
    "apdict0 = mpf.make_addplot(btc[\"High\"])\n",
    "apdict1 = mpf.make_addplot(btc[\"Low\"])\n",
    "mpf.plot(btc,addplot= apdict1 , figratio=(18,10), tight_layout=True, volume=True, title =\"BTC USD\",\n",
    "        ##savefig=path_data + 'btc-usd.png',\n",
    "        )"
   ]
  },
  {
   "cell_type": "code",
   "execution_count": null,
   "metadata": {},
   "outputs": [],
   "source": []
  },
  {
   "cell_type": "code",
   "execution_count": null,
   "metadata": {},
   "outputs": [],
   "source": []
  },
  {
   "cell_type": "code",
   "execution_count": null,
   "metadata": {},
   "outputs": [],
   "source": []
  },
  {
   "cell_type": "code",
   "execution_count": null,
   "metadata": {},
   "outputs": [],
   "source": []
  }
 ],
 "metadata": {
  "kernelspec": {
   "display_name": "crypto",
   "language": "python",
   "name": "crypto"
  },
  "language_info": {
   "codemirror_mode": {
    "name": "ipython",
    "version": 3
   },
   "file_extension": ".py",
   "mimetype": "text/x-python",
   "name": "python",
   "nbconvert_exporter": "python",
   "pygments_lexer": "ipython3",
   "version": "3.8.2"
  }
 },
 "nbformat": 4,
 "nbformat_minor": 4
}
